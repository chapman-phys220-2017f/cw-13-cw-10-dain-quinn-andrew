{
 "cells": [
  {
   "cell_type": "code",
   "execution_count": 15,
   "metadata": {
    "collapsed": false
   },
   "outputs": [
   ],
   "source": [
    "import numpy as np\n",
    "import numba as nb  #uncomment for numba\n",
    "import matplotlib.pyplot as plt\n",
    "%matplotlib inline"
   ]
  },
  {
   "cell_type": "code",
   "execution_count": 24,
   "metadata": {
    "collapsed": false
   },
   "outputs": [
    {
     "name": "stdout",
     "output_type": "stream",
     "text": [
      "CPU times: user 104 ms, sys: 12 ms, total: 116 ms\n",
      "Wall time: 120 ms\n"
     ]
    },
    {
     "name": "stdout",
     "output_type": "stream",
     "text": [
      "CPU times: user 228 ms, sys: 0 ns, total: 228 ms\n",
      "Wall time: 243 ms\n"
     ]
    },
    {
     "data": {
      "image/png": "[encoded data removed]"
     },
     "metadata": {
      "image/png": {
       "height": 847,
       "width": 833
      }
     }
    }
   ],
   "source": [
    "def julia(c):\n",
    "    #@np.vectorize  #comment for numba\n",
    "    @nb.vectorize #uncomment for numba\n",
    "    def j(z):\n",
    "        for n in range(100):\n",
    "            z = z**2 + c\n",
    "            if abs(z) > 2:\n",
    "                return n\n",
    "        return 0\n",
    "    return j\n",
    "\n",
    "j = julia(0.321 + 0.456j)\n",
    "\n",
    "@nb.jit  #uncomment for numba\n",
    "def cplane(min=-1.5, max=1.5, points=1000):\n",
    "    r = np.linspace(-1.5, 1.5, 1000)\n",
    "    x, y = np.meshgrid(r,r)\n",
    "    z = x + y * 1j\n",
    "    return z\n",
    "\n",
    "%time z = cplane()\n",
    "%time jset = j(z)\n",
    "\n",
    "plt.figure(1, (20,15))\n",
    "plt.imshow(jset, cmap=plt.cm.bone)\n",
    "plt.xticks([])\n",
    "plt.yticks([])\n",
    "plt.title(\"Julia Set : c = 0.345 + 0.45j\")\n",
    "plt.show()"
   ]
  },
  {
   "cell_type": "code",
   "execution_count": 0,
   "metadata": {
    "collapsed": false
   },
   "outputs": [
   ],
   "source": [
   ]
  }
 ],
 "metadata": {
  "kernelspec": {
   "display_name": "Python 3 (Anaconda)",
   "language": "python",
   "name": "anaconda3"
  },
  "language_info": {
   "codemirror_mode": {
    "name": "ipython",
    "version": 3
   },
   "file_extension": ".py",
   "mimetype": "text/x-python",
   "name": "python",
   "nbconvert_exporter": "python",
   "pygments_lexer": "ipython3",
   "version": "3.5.4"
  }
 },
 "nbformat": 4,
 "nbformat_minor": 0
}